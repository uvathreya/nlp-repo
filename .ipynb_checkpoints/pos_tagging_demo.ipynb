{
 "metadata": {
  "language_info": {
   "codemirror_mode": {
    "name": "ipython",
    "version": 3
   },
   "file_extension": ".py",
   "mimetype": "text/x-python",
   "name": "python",
   "nbconvert_exporter": "python",
   "pygments_lexer": "ipython3",
   "version": "3.8.5-final"
  },
  "orig_nbformat": 2,
  "kernelspec": {
   "name": "python3",
   "display_name": "Python 3.8.5 64-bit (conda)",
   "metadata": {
    "interpreter": {
     "hash": "bdf56476358ac535b91ee7f3f9cd0c09fe6490241d31b6256d2c842c495b64a5"
    }
   }
  }
 },
 "nbformat": 4,
 "nbformat_minor": 2,
 "cells": [
  {
   "cell_type": "code",
   "execution_count": 1,
   "metadata": {},
   "outputs": [],
   "source": [
    "from nltk import pos_tag\n",
    "from nltk import RegexpParser"
   ]
  },
  {
   "cell_type": "code",
   "execution_count": 8,
   "metadata": {},
   "outputs": [
    {
     "output_type": "stream",
     "name": "stdout",
     "text": [
      "After Split: ['course', 'on', 'nlp', 'using', 'nltk', 'from', 'guru99', 'makes', 'my', 'learning', 'smooth']\n"
     ]
    }
   ],
   "source": [
    "text =\"course on nlp using nltk from guru99 makes my learning smooth\".split()\n",
    "print(\"After Split:\",text)"
   ]
  },
  {
   "cell_type": "code",
   "execution_count": 9,
   "metadata": {},
   "outputs": [
    {
     "output_type": "stream",
     "name": "stdout",
     "text": [
      "After Token: [('course', 'NN'), ('on', 'IN'), ('nlp', 'JJ'), ('using', 'VBG'), ('nltk', 'NN'), ('from', 'IN'), ('guru99', 'NN'), ('makes', 'VBZ'), ('my', 'PRP$'), ('learning', 'JJ'), ('smooth', 'JJ')]\n"
     ]
    }
   ],
   "source": [
    "tokens_tag = pos_tag(text)\n",
    "print(\"After Token:\",tokens_tag)"
   ]
  },
  {
   "cell_type": "code",
   "execution_count": 10,
   "metadata": {},
   "outputs": [
    {
     "output_type": "stream",
     "name": "stdout",
     "text": [
      "After Regex: chunk.RegexpParser with 1 stages:\nRegexpChunkParser with 1 rules:\n       <ChunkRule: '<NN.?>*<VBD.?>*<JJ.?>*<CC>?'>\n"
     ]
    }
   ],
   "source": [
    "patterns= \"\"\"mychunk:{<NN.?>*<VBD.?>*<JJ.?>*<CC>?}\"\"\"\n",
    "chunker = RegexpParser(patterns)\n",
    "print(\"After Regex:\",chunker)"
   ]
  },
  {
   "cell_type": "code",
   "execution_count": 11,
   "metadata": {},
   "outputs": [
    {
     "output_type": "stream",
     "name": "stdout",
     "text": [
      "After Chunking (S\n  (mychunk course/NN)\n  on/IN\n  (mychunk nlp/JJ)\n  using/VBG\n  (mychunk nltk/NN)\n  from/IN\n  (mychunk guru99/NN)\n  makes/VBZ\n  my/PRP$\n  (mychunk learning/JJ smooth/JJ))\n"
     ]
    }
   ],
   "source": [
    "output = chunker.parse(tokens_tag)\n",
    "print(\"After Chunking\",output)"
   ]
  },
  {
   "cell_type": "code",
   "execution_count": null,
   "metadata": {},
   "outputs": [],
   "source": []
  }
 ]
}