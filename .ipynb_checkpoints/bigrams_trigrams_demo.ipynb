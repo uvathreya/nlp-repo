{
 "metadata": {
  "language_info": {
   "codemirror_mode": {
    "name": "ipython",
    "version": 3
   },
   "file_extension": ".py",
   "mimetype": "text/x-python",
   "name": "python",
   "nbconvert_exporter": "python",
   "pygments_lexer": "ipython3",
   "version": "3.8.5-final"
  },
  "orig_nbformat": 2,
  "kernelspec": {
   "name": "python3",
   "display_name": "Python 3.8.5 64-bit (conda)",
   "metadata": {
    "interpreter": {
     "hash": "bdf56476358ac535b91ee7f3f9cd0c09fe6490241d31b6256d2c842c495b64a5"
    }
   }
  }
 },
 "nbformat": 4,
 "nbformat_minor": 2,
 "cells": [
  {
   "cell_type": "code",
   "execution_count": 8,
   "metadata": {},
   "outputs": [],
   "source": [
    "from nltk.tokenize import RegexpTokenizer\n",
    "text = \"some of the examples of bigrams and trigrams are: sunny day, day to day, CT Scan\"\n",
    "tokenizer = RegexpTokenizer(r'\\w+')\n",
    "Tokens = tokenizer.tokenize(text)"
   ]
  },
  {
   "cell_type": "code",
   "execution_count": 9,
   "metadata": {},
   "outputs": [
    {
     "output_type": "stream",
     "name": "stdout",
     "text": [
      "[('some', 'of'), ('of', 'the'), ('the', 'examples'), ('examples', 'of'), ('of', 'bigrams'), ('bigrams', 'and'), ('and', 'trigrams'), ('trigrams', 'are'), ('are', 'sunny'), ('sunny', 'day'), ('day', 'day'), ('day', 'to'), ('to', 'day'), ('day', 'CT'), ('CT', 'Scan')]\n"
     ]
    }
   ],
   "source": [
    "bigrams_output = list(nltk.bigrams(Tokens))\n",
    "print(bigrams_output)"
   ]
  },
  {
   "cell_type": "code",
   "execution_count": 10,
   "metadata": {},
   "outputs": [
    {
     "output_type": "stream",
     "name": "stdout",
     "text": [
      "[('some', 'of', 'the'), ('of', 'the', 'examples'), ('the', 'examples', 'of'), ('examples', 'of', 'bigrams'), ('of', 'bigrams', 'and'), ('bigrams', 'and', 'trigrams'), ('and', 'trigrams', 'are'), ('trigrams', 'are', 'sunny'), ('are', 'sunny', 'day'), ('sunny', 'day', 'day'), ('day', 'day', 'to'), ('day', 'to', 'day'), ('to', 'day', 'CT'), ('day', 'CT', 'Scan')]\n"
     ]
    }
   ],
   "source": [
    "trigrams_output = list(nltk.trigrams(Tokens))\n",
    "print(trigrams_output)"
   ]
  }
 ]
}